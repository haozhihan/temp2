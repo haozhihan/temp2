{
 "cells": [
  {
   "cell_type": "code",
   "execution_count": 1,
   "metadata": {},
   "outputs": [],
   "source": [
    "import numpy as np\n",
    "data_file = \"../../tmp/tmp/attn.npy\"\n",
    "data = np.load(data_file)"
   ]
  },
  {
   "cell_type": "code",
   "execution_count": 17,
   "metadata": {},
   "outputs": [
    {
     "name": "stdout",
     "output_type": "stream",
     "text": [
      "(498, 48, 4, 25, 16, 16)\n",
      "(498, 48, 4, 25, 16, 16)\n"
     ]
    }
   ],
   "source": [
    "print(data.shape)\n",
    "# data = np.mean(data, axis=0)\n",
    "print(data.shape)"
   ]
  },
  {
   "cell_type": "code",
   "execution_count": 33,
   "metadata": {},
   "outputs": [
    {
     "name": "stdout",
     "output_type": "stream",
     "text": [
      "(48, 4, 25, 16, 16)\n",
      "[[0.1  0.   0.   0.   0.   0.   0.   0.   0.   0.   0.   0.   0.   0.\n",
      "  0.   0.  ]\n",
      " [0.11 0.08 0.   0.   0.   0.   0.   0.   0.   0.   0.   0.   0.   0.\n",
      "  0.   0.  ]\n",
      " [0.12 0.1  0.08 0.   0.   0.   0.   0.   0.   0.   0.   0.   0.   0.\n",
      "  0.   0.  ]\n",
      " [0.12 0.11 0.1  0.08 0.   0.   0.   0.   0.   0.   0.   0.   0.   0.\n",
      "  0.   0.  ]\n",
      " [0.13 0.12 0.11 0.1  0.08 0.   0.   0.   0.   0.   0.   0.   0.   0.\n",
      "  0.   0.  ]\n",
      " [0.13 0.13 0.12 0.11 0.1  0.08 0.   0.   0.   0.   0.   0.   0.   0.\n",
      "  0.   0.  ]\n",
      " [0.14 0.13 0.13 0.12 0.11 0.1  0.08 0.   0.   0.   0.   0.   0.   0.\n",
      "  0.   0.  ]\n",
      " [0.14 0.14 0.13 0.13 0.12 0.11 0.1  0.08 0.   0.   0.   0.   0.   0.\n",
      "  0.   0.  ]\n",
      " [0.16 0.16 0.16 0.15 0.15 0.14 0.13 0.13 0.09 0.   0.   0.   0.   0.\n",
      "  0.   0.  ]\n",
      " [0.17 0.17 0.16 0.16 0.15 0.15 0.14 0.14 0.1  0.08 0.   0.   0.   0.\n",
      "  0.   0.  ]\n",
      " [0.17 0.17 0.17 0.16 0.16 0.15 0.15 0.15 0.12 0.1  0.08 0.   0.   0.\n",
      "  0.   0.  ]\n",
      " [0.18 0.17 0.17 0.17 0.17 0.16 0.16 0.15 0.12 0.11 0.1  0.08 0.   0.\n",
      "  0.   0.  ]\n",
      " [0.18 0.18 0.17 0.17 0.17 0.16 0.16 0.16 0.13 0.12 0.11 0.1  0.08 0.\n",
      "  0.   0.  ]\n",
      " [0.18 0.18 0.18 0.17 0.17 0.16 0.16 0.16 0.13 0.12 0.12 0.11 0.1  0.08\n",
      "  0.   0.  ]\n",
      " [0.18 0.18 0.18 0.17 0.17 0.17 0.16 0.16 0.14 0.13 0.12 0.12 0.11 0.1\n",
      "  0.08 0.  ]\n",
      " [0.18 0.18 0.18 0.18 0.17 0.17 0.16 0.16 0.14 0.13 0.12 0.12 0.11 0.11\n",
      "  0.1  0.08]]\n"
     ]
    }
   ],
   "source": [
    "layer = data.mean(axis=0)\n",
    "print(layer.shape)\n",
    "print(np.round(layer[47,3,0],2))"
   ]
  },
  {
   "cell_type": "code",
   "execution_count": null,
   "metadata": {},
   "outputs": [],
   "source": [
    "import torch \n",
    "aa = torch.load('/home/pairshoe/cxy/longlora/tmp/save/8.7/s2_0/attn/layer_47_state.pt')"
   ]
  }
 ],
 "metadata": {
  "kernelspec": {
   "display_name": "llora",
   "language": "python",
   "name": "python3"
  },
  "language_info": {
   "codemirror_mode": {
    "name": "ipython",
    "version": 3
   },
   "file_extension": ".py",
   "mimetype": "text/x-python",
   "name": "python",
   "nbconvert_exporter": "python",
   "pygments_lexer": "ipython3",
   "version": "3.9.19"
  }
 },
 "nbformat": 4,
 "nbformat_minor": 2
}
